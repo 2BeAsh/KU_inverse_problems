{
 "cells": [
  {
   "cell_type": "markdown",
   "metadata": {},
   "source": [
    "# Outline\n",
    "Goal: Posterior i.e. magnetization \n",
    "1. *Prior* algorithm\n",
    "- Initialize using Tikhonov regularization\n",
    "- Make $N_{step}$ updates\n",
    "\n",
    "2. *Likelihood*\n",
    "3. *Null* \n",
    "4.  Use Tikhonov to initialize MCMC\n",
    "\n",
    "**Prior**: Bands, stripes and their magnetizations. \n",
    "\n",
    "**Likelihood**: Compare prior with datafile. \n",
    "\n",
    "**Null**: "
   ]
  },
  {
   "cell_type": "code",
   "execution_count": null,
   "metadata": {
    "vscode": {
     "languageId": "plaintext"
    }
   },
   "outputs": [],
   "source": [
    "# Exercise 1\n",
    "We are told the errors are independent and normally distributed. \n",
    "*Show how it is a Gaussian*"
   ]
  },
  {
   "cell_type": "markdown",
   "metadata": {},
   "source": []
  }
 ],
 "metadata": {
  "language_info": {
   "name": "python"
  }
 },
 "nbformat": 4,
 "nbformat_minor": 2
}
